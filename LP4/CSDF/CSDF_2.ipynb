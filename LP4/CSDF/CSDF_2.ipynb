{
 "cells": [
  {
   "cell_type": "code",
   "execution_count": 4,
   "metadata": {},
   "outputs": [
    {
     "name": "stdout",
     "output_type": "stream",
     "text": [
      "Requirement already satisfied: Pillow in /home/codespace/.local/lib/python3.12/site-packages (10.4.0)\n"
     ]
    }
   ],
   "source": [
    "!pip install Pillow"
   ]
  },
  {
   "cell_type": "code",
   "execution_count": 6,
   "metadata": {},
   "outputs": [
    {
     "name": "stdout",
     "output_type": "stream",
     "text": [
      "Generated CAPTCHA: KM6WSK\n"
     ]
    },
    {
     "data": {
      "image/jpeg": "[encoded data removed]",
      "image/png": "[encoded data removed]",
      "text/plain": [
       "<PIL.Image.Image image mode=RGB size=200x70>"
      ]
     },
     "metadata": {},
     "output_type": "display_data"
    },
    {
     "name": "stdout",
     "output_type": "stream",
     "text": [
      "CAPTCHA verification passed.\n"
     ]
    }
   ],
   "source": [
    "from PIL import Image, ImageDraw, ImageFont, ImageFilter\n",
    "import random\n",
    "import string\n",
    "\n",
    "def generate_captcha_text(length=6):\n",
    "    # Generate random text from letters and digits\n",
    "    characters = string.ascii_uppercase + string.digits\n",
    "    captcha_text = ''.join(random.choice(characters) for _ in range(length))\n",
    "    return captcha_text\n",
    "\n",
    "def generate_captcha_image(captcha_text, width=200, height=70, font_path=\"arial.ttf\", font_size=40):\n",
    "    # Create an image with a white background\n",
    "    image = Image.new('RGB', (width, height), 'white')\n",
    "    \n",
    "    try:\n",
    "        # Load a custom font (make sure to have the font file in the working directory)\n",
    "        font = ImageFont.truetype(font_path, font_size)\n",
    "    except IOError:\n",
    "        # If the font file is not found, fallback to the default font\n",
    "        font = ImageFont.load_default()\n",
    "    \n",
    "    draw = ImageDraw.Draw(image)\n",
    "\n",
    "    # Add random noise - fewer lines and dots to reduce clutter\n",
    "    def add_noise(draw, width, height):\n",
    "        for _ in range(5):  # Add fewer random lines\n",
    "            start = (random.randint(0, width), random.randint(0, height))\n",
    "            end = (random.randint(0, width), random.randint(0, height))\n",
    "            draw.line([start, end], fill=(random.randint(100, 200), random.randint(100, 200), random.randint(100, 200)), width=1)\n",
    "\n",
    "        for _ in range(20):  # Add fewer random dots\n",
    "            xy = (random.randint(0, width), random.randint(0, height))\n",
    "            draw.point(xy, fill=(random.randint(100, 200), random.randint(100, 200), random.randint(100, 200)))\n",
    "\n",
    "    # Add CAPTCHA text to the image with better contrast and larger font size\n",
    "    text_bbox = draw.textbbox((0, 0), captcha_text, font=font)\n",
    "    text_width = text_bbox[2] - text_bbox[0]\n",
    "    text_height = text_bbox[3] - text_bbox[1]\n",
    "    text_position = ((width - text_width) // 2, (height - text_height) // 2)\n",
    "    draw.text(text_position, captcha_text, font=font, fill=(0, 0, 0))  # Black text for better contrast\n",
    "\n",
    "    # Add some random noise to make it difficult for bots\n",
    "    add_noise(draw, width, height)\n",
    "\n",
    "    # Optional: comment out the blurring step if it makes the image unclear\n",
    "    # image = image.filter(ImageFilter.BLUR)\n",
    "\n",
    "    # Save the image\n",
    "    image.save(f\"{captcha_text}.png\")\n",
    "\n",
    "    return image\n",
    "\n",
    "def verify_captcha(user_input, actual_captcha):\n",
    "    # Simple verification by comparing input with the generated text\n",
    "    return user_input == actual_captcha\n",
    "\n",
    "# Main part of the program\n",
    "if __name__ == \"__main__\":\n",
    "    # Generate CAPTCHA text\n",
    "    captcha_text = generate_captcha_text()\n",
    "    print(f\"Generated CAPTCHA: {captcha_text}\")\n",
    "\n",
    "    # Generate CAPTCHA image\n",
    "    captcha_image = generate_captcha_image(captcha_text)\n",
    "\n",
    "    # Display the image (optional, useful in GUI apps)\n",
    "    captcha_image.show()\n",
    "\n",
    "    # Simulate user input for verification\n",
    "    user_input = input(\"Enter the CAPTCHA: \")\n",
    "\n",
    "    # Verify the CAPTCHA\n",
    "    if verify_captcha(user_input, captcha_text):\n",
    "        print(\"CAPTCHA verification passed.\")\n",
    "    else:\n",
    "        print(\"CAPTCHA verification failed.\")"
   ]
  }
 ],
 "metadata": {
  "kernelspec": {
   "display_name": "base",
   "language": "python",
   "name": "python3"
  },
  "language_info": {
   "codemirror_mode": {
    "name": "ipython",
    "version": 3
   },
   "file_extension": ".py",
   "mimetype": "text/x-python",
   "name": "python",
   "nbconvert_exporter": "python",
   "pygments_lexer": "ipython3",
   "version": "3.12.3"
  }
 },
 "nbformat": 4,
 "nbformat_minor": 2
}
